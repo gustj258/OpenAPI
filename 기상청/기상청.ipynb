{
 "cells": [
  {
   "cell_type": "code",
   "execution_count": 1,
   "metadata": {},
   "outputs": [
    {
     "name": "stdout",
     "output_type": "stream",
     "text": [
      "{\"response\":{\"header\":{\"resultCode\":\"00\",\"resultMsg\":\"NORMAL_SERVICE\"},\"body\":{\"dataType\":\"JSON\",\"items\":{\"item\":[{\"regId\":\"11A00101\",\"lat\":37.966099,\"lon\":124.630447,\"regEn\":\"Baengnyeongdo\",\"regName\":\"백령도\",\"regSp\":\"C\",\"regUp\":\"11A00100\",\"seq\":1,\"stnF3\":102,\"tmEd\":210012310000,\"tmSt\":201610131800}]},\"pageNo\":1,\"numOfRows\":10,\"totalCount\":1}}}\n"
     ]
    }
   ],
   "source": [
    "import requests\n",
    "\n",
    "url = \"http://apis.data.go.kr/1360000/FcstZoneInfoService/getFcstZoneCd\"\n",
    "\n",
    "querystring = {\"serviceKey\":\"3w68NZC3y7WLN4yWYQe/0/aQFOD1gwWOn6hJqe30ILw6GDoFiF0/zjloMWbUTtU0zGbZnvL5ob2ZakxK4IiPmg==\",\"numOfRows\":\"10\",\"pageNo\":\"1\",\"regId\":\"11A00101\",\"dataType\":\"JSON\"}\n",
    "\n",
    "headers = {\n",
    "    'cache-control': \"no-cache\",\n",
    "    'postman-token': \"0e0168df-2024-b373-750f-3841a52558c6\"\n",
    "    }\n",
    "\n",
    "response = requests.request(\"GET\", url, headers=headers, params=querystring)\n",
    "\n",
    "print(response.text)"
   ]
  },
  {
   "cell_type": "code",
   "execution_count": 4,
   "metadata": {},
   "outputs": [
    {
     "ename": "KeyError",
     "evalue": "'list'",
     "output_type": "error",
     "traceback": [
      "\u001b[1;31m---------------------------------------------------------------------------\u001b[0m",
      "\u001b[1;31mKeyError\u001b[0m                                  Traceback (most recent call last)",
      "\u001b[1;32m<ipython-input-4-dec09b158b2d>\u001b[0m in \u001b[0;36m<module>\u001b[1;34m\u001b[0m\n\u001b[0;32m     31\u001b[0m \u001b[0mdat\u001b[0m \u001b[1;33m=\u001b[0m \u001b[0mjson\u001b[0m\u001b[1;33m.\u001b[0m\u001b[0mloads\u001b[0m\u001b[1;33m(\u001b[0m\u001b[0mresponse\u001b[0m\u001b[1;33m.\u001b[0m\u001b[0mtext\u001b[0m\u001b[1;33m)\u001b[0m\u001b[1;33m\u001b[0m\u001b[1;33m\u001b[0m\u001b[0m\n\u001b[0;32m     32\u001b[0m \u001b[1;33m\u001b[0m\u001b[0m\n\u001b[1;32m---> 33\u001b[1;33m \u001b[0mdf\u001b[0m \u001b[1;33m=\u001b[0m \u001b[0mpd\u001b[0m\u001b[1;33m.\u001b[0m\u001b[0mDataFrame\u001b[0m\u001b[1;33m.\u001b[0m\u001b[0mfrom_dict\u001b[0m\u001b[1;33m(\u001b[0m\u001b[0mdat\u001b[0m\u001b[1;33m[\u001b[0m\u001b[1;34m'list'\u001b[0m\u001b[1;33m]\u001b[0m\u001b[1;33m)\u001b[0m\u001b[1;33m\u001b[0m\u001b[1;33m\u001b[0m\u001b[0m\n\u001b[0m\u001b[0;32m     34\u001b[0m \u001b[0mdf\u001b[0m\u001b[1;33m.\u001b[0m\u001b[0minfo\u001b[0m\u001b[1;33m(\u001b[0m\u001b[1;33m)\u001b[0m\u001b[1;33m\u001b[0m\u001b[1;33m\u001b[0m\u001b[0m\n\u001b[0;32m     35\u001b[0m \u001b[1;33m\u001b[0m\u001b[0m\n",
      "\u001b[1;31mKeyError\u001b[0m: 'list'"
     ]
    }
   ],
   "source": [
    "import requests\n",
    "import pandas as pd\n",
    "import datetime\n",
    "import json\n",
    "import sys\n",
    "\n",
    "\n",
    "def convert_strtdat(data):\n",
    "    try:\n",
    "        if data[-2:] == '24':\n",
    "            d = datetime.datetime.strptime(data[:-2], '%Y%m%d')\n",
    "            d = d + datetime.timedelta(days=1)\n",
    "        else:\n",
    "            d = datetime.datetime.strptime(data, '%Y%m%d%H')\n",
    "        return d\n",
    "    except Exception as e:\n",
    "        print(f\"[!] {data} is Not Date type.\")\n",
    "        sys.exit(1)\n",
    "        \n",
    "url = \"http://apis.data.go.kr/1360000/FcstZoneInfoService/getFcstZoneCd\"\n",
    "\n",
    "headers = {\n",
    "    'cache-control': \"no-cache\",\n",
    "    'postman-token': \"0e0168df-2024-b373-750f-3841a52558c6\"\n",
    "    }\n",
    "\n",
    "querystring = {\"serviceKey\":\"3w68NZC3y7WLN4yWYQe/0/aQFOD1gwWOn6hJqe30ILw6GDoFiF0/zjloMWbUTtU0zGbZnvL5ob2ZakxK4IiPmg==\",\"numOfRows\":\"10\",\"pageNo\":\"1\",\"regId\":\"11A00101\",\"dataType\":\"JSON\"}\n",
    "\n",
    "response = requests.request(\"GET\", url, headers=headers, params=querystring)\n",
    "\n",
    "dat = json.loads(response.text)\n",
    "\n",
    "df = pd.DataFrame.from_dict(dat['list'])\n",
    "df.info()\n",
    "\n",
    "df[\"lat\"] = df[\"lat\"].astype(float)\n",
    "df[\"lon\"] = df[\"lon\"].astype(float)\n",
    "df[\"regName\"] = df[\"regName\"].astype(str)\n",
    "df[\"regId\"] = df[\"regId\"].astype(str)\n",
    "\n",
    "df.to_excel('weatherpost.xlsx')"
   ]
  }
 ],
 "metadata": {
  "kernelspec": {
   "display_name": "Python 3",
   "language": "python",
   "name": "python3"
  },
  "language_info": {
   "codemirror_mode": {
    "name": "ipython",
    "version": 3
   },
   "file_extension": ".py",
   "mimetype": "text/x-python",
   "name": "python",
   "nbconvert_exporter": "python",
   "pygments_lexer": "ipython3",
   "version": "3.8.4rc1"
  }
 },
 "nbformat": 4,
 "nbformat_minor": 4
}
