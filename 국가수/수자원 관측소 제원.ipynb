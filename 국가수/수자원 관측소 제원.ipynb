{
 "cells": [
  {
   "cell_type": "code",
   "execution_count": 1,
   "metadata": {},
   "outputs": [
    {
     "name": "stdout",
     "output_type": "stream",
     "text": [
      "{\"result\":{\"code\":\"success\",\"msg\":\"완료되었습니다!\"},\"count\":1,\"list\":[{\"wtobsocd\":\"100\",\"wtobscd\":\"10011100\",\"obsnm\":\"대관령\",\"sbsncd\":\"1001\",\"clsyn\":\"운영중\",\"obskdcd\":\"보통\",\"mggvcd\":\"기상청\",\"opndt\":\"1971-07-15\",\"lat\":\"37.677   \",\"lon\":\"128.718  \",\"tmx\":\"351561\",\"tmy\":\"465538\",\"addr\":\"(산간)강원도 평창군 대관령면 횡계리\",\"bbsncd\":\"한강\",\"obselm\":772.57,\"thrmlhi\":1.8,\"prselm\":\"773.7\",\"wvmlhi\":\"10\",\"hytmlhi\":0.6,\"orgcha\":null,\"nj\":\"ⅹ\",\"wthsp\":null,\"spitm\":null,\"avgtmrPD\":null,\"mxtmrpd\":null,\"mntmrpd\":null,\"mnsnwpd\":null,\"smlevap\":null,\"lagevap\":null,\"avgwvpd\":null,\"mxdwdpd\":null,\"mxwvpd\":null,\"avghmdpd\":null,\"mnhmdpd\":null,\"avgdpnt\":null,\"avgcdqty\":null,\"avgsprs\":null,\"hrzsunpd\":null,\"snsnpd\":null}]}\n"
     ]
    }
   ],
   "source": [
    "import requests\n",
    "\n",
    "url = \"http://www.wamis.go.kr:8080/wamis/openapi/wkw/we_obsinfo\"\n",
    "\n",
    "querystring = {\"ServiceKey\":\"d6ac320da07b282bde61a946be84fe99dfa71ffd19\",\"ResultType\":\"json\",\"obscd\":\"10011100\"}\n",
    "\n",
    "headers = {\n",
    "    'cache-control': \"no-cache\",\n",
    "    'postman-token': \"88b8d0db-c085-db8e-12bb-d68923d75347\"\n",
    "    }\n",
    "\n",
    "response = requests.request(\"GET\", url, headers=headers, params=querystring)\n",
    "\n",
    "print(response.text)\n",
    "\n",
    "#관측소코드명\n",
    "#영월:10021121, 제천:10031221, 충주:10041127, 원주:10061114, 양평:10071202, 이천:10071203, 인제:10121211,\n",
    "#춘천:10131101, 홍천:10141212, 서울:10181108, 수원:11011119, 인천:12011112, 강화:12011201, 속초:13011090,\n",
    "#강릉:13021105, 동해:13021106 "
   ]
  },
  {
   "cell_type": "code",
   "execution_count": 40,
   "metadata": {},
   "outputs": [
    {
     "name": "stdout",
     "output_type": "stream",
     "text": [
      "{\"result\":{\"code\":\"success\",\"msg\":\"완료되었습니다!\"},\"count\":1,\"list\":[{\"wtobsocd\":\"100\",\"wtobscd\":\"10011100\",\"obsnm\":\"대관령\",\"sbsncd\":\"1001\",\"clsyn\":\"운영중\",\"obskdcd\":\"보통\",\"mggvcd\":\"기상청\",\"opndt\":\"1971-07-15\",\"lat\":\"37.677   \",\"lon\":\"128.718  \",\"tmx\":\"351561\",\"tmy\":\"465538\",\"addr\":\"(산간)강원도 평창군 대관령면 횡계리\",\"bbsncd\":\"한강\",\"obselm\":772.57,\"thrmlhi\":1.8,\"prselm\":\"773.7\",\"wvmlhi\":\"10\",\"hytmlhi\":0.6,\"orgcha\":null,\"nj\":\"ⅹ\",\"wthsp\":null,\"spitm\":null,\"avgtmrPD\":null,\"mxtmrpd\":null,\"mntmrpd\":null,\"mnsnwpd\":null,\"smlevap\":null,\"lagevap\":null,\"avgwvpd\":null,\"mxdwdpd\":null,\"mxwvpd\":null,\"avghmdpd\":null,\"mnhmdpd\":null,\"avgdpnt\":null,\"avgcdqty\":null,\"avgsprs\":null,\"hrzsunpd\":null,\"snsnpd\":null}]}\n",
      "{\"result\":{\"code\":\"success\",\"msg\":\"완료되었습니다!\"},\"count\":1,\"list\":[{\"wtobsocd\":\"100\",\"wtobscd\":\"10011100\",\"obsnm\":\"대관령\",\"sbsncd\":\"1001\",\"clsyn\":\"운영중\",\"obskdcd\":\"보통\",\"mggvcd\":\"기상청\",\"opndt\":\"1971-07-15\",\"lat\":\"37.677   \",\"lon\":\"128.718  \",\"tmx\":\"351561\",\"tmy\":\"465538\",\"addr\":\"(산간)강원도 평창군 대관령면 횡계리\",\"bbsncd\":\"한강\",\"obselm\":772.57,\"thrmlhi\":1.8,\"prselm\":\"773.7\",\"wvmlhi\":\"10\",\"hytmlhi\":0.6,\"orgcha\":null,\"nj\":\"ⅹ\",\"wthsp\":null,\"spitm\":null,\"avgtmrPD\":null,\"mxtmrpd\":null,\"mntmrpd\":null,\"mnsnwpd\":null,\"smlevap\":null,\"lagevap\":null,\"avgwvpd\":null,\"mxdwdpd\":null,\"mxwvpd\":null,\"avghmdpd\":null,\"mnhmdpd\":null,\"avgdpnt\":null,\"avgcdqty\":null,\"avgsprs\":null,\"hrzsunpd\":null,\"snsnpd\":null}]}\n",
      "{\"result\":{\"code\":\"success\",\"msg\":\"완료되었습니다!\"},\"count\":1,\"list\":[{\"wtobsocd\":\"100\",\"wtobscd\":\"10011100\",\"obsnm\":\"대관령\",\"sbsncd\":\"1001\",\"clsyn\":\"운영중\",\"obskdcd\":\"보통\",\"mggvcd\":\"기상청\",\"opndt\":\"1971-07-15\",\"lat\":\"37.677   \",\"lon\":\"128.718  \",\"tmx\":\"351561\",\"tmy\":\"465538\",\"addr\":\"(산간)강원도 평창군 대관령면 횡계리\",\"bbsncd\":\"한강\",\"obselm\":772.57,\"thrmlhi\":1.8,\"prselm\":\"773.7\",\"wvmlhi\":\"10\",\"hytmlhi\":0.6,\"orgcha\":null,\"nj\":\"ⅹ\",\"wthsp\":null,\"spitm\":null,\"avgtmrPD\":null,\"mxtmrpd\":null,\"mntmrpd\":null,\"mnsnwpd\":null,\"smlevap\":null,\"lagevap\":null,\"avgwvpd\":null,\"mxdwdpd\":null,\"mxwvpd\":null,\"avghmdpd\":null,\"mnhmdpd\":null,\"avgdpnt\":null,\"avgcdqty\":null,\"avgsprs\":null,\"hrzsunpd\":null,\"snsnpd\":null}]}\n",
      "{\"result\":{\"code\":\"success\",\"msg\":\"완료되었습니다!\"},\"count\":1,\"list\":[{\"wtobsocd\":\"100\",\"wtobscd\":\"10011100\",\"obsnm\":\"대관령\",\"sbsncd\":\"1001\",\"clsyn\":\"운영중\",\"obskdcd\":\"보통\",\"mggvcd\":\"기상청\",\"opndt\":\"1971-07-15\",\"lat\":\"37.677   \",\"lon\":\"128.718  \",\"tmx\":\"351561\",\"tmy\":\"465538\",\"addr\":\"(산간)강원도 평창군 대관령면 횡계리\",\"bbsncd\":\"한강\",\"obselm\":772.57,\"thrmlhi\":1.8,\"prselm\":\"773.7\",\"wvmlhi\":\"10\",\"hytmlhi\":0.6,\"orgcha\":null,\"nj\":\"ⅹ\",\"wthsp\":null,\"spitm\":null,\"avgtmrPD\":null,\"mxtmrpd\":null,\"mntmrpd\":null,\"mnsnwpd\":null,\"smlevap\":null,\"lagevap\":null,\"avgwvpd\":null,\"mxdwdpd\":null,\"mxwvpd\":null,\"avghmdpd\":null,\"mnhmdpd\":null,\"avgdpnt\":null,\"avgcdqty\":null,\"avgsprs\":null,\"hrzsunpd\":null,\"snsnpd\":null}]}\n",
      "{\"result\":{\"code\":\"success\",\"msg\":\"완료되었습니다!\"},\"count\":1,\"list\":[{\"wtobsocd\":\"100\",\"wtobscd\":\"10011100\",\"obsnm\":\"대관령\",\"sbsncd\":\"1001\",\"clsyn\":\"운영중\",\"obskdcd\":\"보통\",\"mggvcd\":\"기상청\",\"opndt\":\"1971-07-15\",\"lat\":\"37.677   \",\"lon\":\"128.718  \",\"tmx\":\"351561\",\"tmy\":\"465538\",\"addr\":\"(산간)강원도 평창군 대관령면 횡계리\",\"bbsncd\":\"한강\",\"obselm\":772.57,\"thrmlhi\":1.8,\"prselm\":\"773.7\",\"wvmlhi\":\"10\",\"hytmlhi\":0.6,\"orgcha\":null,\"nj\":\"ⅹ\",\"wthsp\":null,\"spitm\":null,\"avgtmrPD\":null,\"mxtmrpd\":null,\"mntmrpd\":null,\"mnsnwpd\":null,\"smlevap\":null,\"lagevap\":null,\"avgwvpd\":null,\"mxdwdpd\":null,\"mxwvpd\":null,\"avghmdpd\":null,\"mnhmdpd\":null,\"avgdpnt\":null,\"avgcdqty\":null,\"avgsprs\":null,\"hrzsunpd\":null,\"snsnpd\":null}]}\n",
      "{\"result\":{\"code\":\"success\",\"msg\":\"완료되었습니다!\"},\"count\":1,\"list\":[{\"wtobsocd\":\"100\",\"wtobscd\":\"10011100\",\"obsnm\":\"대관령\",\"sbsncd\":\"1001\",\"clsyn\":\"운영중\",\"obskdcd\":\"보통\",\"mggvcd\":\"기상청\",\"opndt\":\"1971-07-15\",\"lat\":\"37.677   \",\"lon\":\"128.718  \",\"tmx\":\"351561\",\"tmy\":\"465538\",\"addr\":\"(산간)강원도 평창군 대관령면 횡계리\",\"bbsncd\":\"한강\",\"obselm\":772.57,\"thrmlhi\":1.8,\"prselm\":\"773.7\",\"wvmlhi\":\"10\",\"hytmlhi\":0.6,\"orgcha\":null,\"nj\":\"ⅹ\",\"wthsp\":null,\"spitm\":null,\"avgtmrPD\":null,\"mxtmrpd\":null,\"mntmrpd\":null,\"mnsnwpd\":null,\"smlevap\":null,\"lagevap\":null,\"avgwvpd\":null,\"mxdwdpd\":null,\"mxwvpd\":null,\"avghmdpd\":null,\"mnhmdpd\":null,\"avgdpnt\":null,\"avgcdqty\":null,\"avgsprs\":null,\"hrzsunpd\":null,\"snsnpd\":null}]}\n",
      "{\"result\":{\"code\":\"success\",\"msg\":\"완료되었습니다!\"},\"count\":1,\"list\":[{\"wtobsocd\":\"100\",\"wtobscd\":\"10011100\",\"obsnm\":\"대관령\",\"sbsncd\":\"1001\",\"clsyn\":\"운영중\",\"obskdcd\":\"보통\",\"mggvcd\":\"기상청\",\"opndt\":\"1971-07-15\",\"lat\":\"37.677   \",\"lon\":\"128.718  \",\"tmx\":\"351561\",\"tmy\":\"465538\",\"addr\":\"(산간)강원도 평창군 대관령면 횡계리\",\"bbsncd\":\"한강\",\"obselm\":772.57,\"thrmlhi\":1.8,\"prselm\":\"773.7\",\"wvmlhi\":\"10\",\"hytmlhi\":0.6,\"orgcha\":null,\"nj\":\"ⅹ\",\"wthsp\":null,\"spitm\":null,\"avgtmrPD\":null,\"mxtmrpd\":null,\"mntmrpd\":null,\"mnsnwpd\":null,\"smlevap\":null,\"lagevap\":null,\"avgwvpd\":null,\"mxdwdpd\":null,\"mxwvpd\":null,\"avghmdpd\":null,\"mnhmdpd\":null,\"avgdpnt\":null,\"avgcdqty\":null,\"avgsprs\":null,\"hrzsunpd\":null,\"snsnpd\":null}]}\n",
      "{\"result\":{\"code\":\"success\",\"msg\":\"완료되었습니다!\"},\"count\":1,\"list\":[{\"wtobsocd\":\"100\",\"wtobscd\":\"10011100\",\"obsnm\":\"대관령\",\"sbsncd\":\"1001\",\"clsyn\":\"운영중\",\"obskdcd\":\"보통\",\"mggvcd\":\"기상청\",\"opndt\":\"1971-07-15\",\"lat\":\"37.677   \",\"lon\":\"128.718  \",\"tmx\":\"351561\",\"tmy\":\"465538\",\"addr\":\"(산간)강원도 평창군 대관령면 횡계리\",\"bbsncd\":\"한강\",\"obselm\":772.57,\"thrmlhi\":1.8,\"prselm\":\"773.7\",\"wvmlhi\":\"10\",\"hytmlhi\":0.6,\"orgcha\":null,\"nj\":\"ⅹ\",\"wthsp\":null,\"spitm\":null,\"avgtmrPD\":null,\"mxtmrpd\":null,\"mntmrpd\":null,\"mnsnwpd\":null,\"smlevap\":null,\"lagevap\":null,\"avgwvpd\":null,\"mxdwdpd\":null,\"mxwvpd\":null,\"avghmdpd\":null,\"mnhmdpd\":null,\"avgdpnt\":null,\"avgcdqty\":null,\"avgsprs\":null,\"hrzsunpd\":null,\"snsnpd\":null}]}\n",
      "{\"result\":{\"code\":\"success\",\"msg\":\"완료되었습니다!\"},\"count\":1,\"list\":[{\"wtobsocd\":\"100\",\"wtobscd\":\"10011100\",\"obsnm\":\"대관령\",\"sbsncd\":\"1001\",\"clsyn\":\"운영중\",\"obskdcd\":\"보통\",\"mggvcd\":\"기상청\",\"opndt\":\"1971-07-15\",\"lat\":\"37.677   \",\"lon\":\"128.718  \",\"tmx\":\"351561\",\"tmy\":\"465538\",\"addr\":\"(산간)강원도 평창군 대관령면 횡계리\",\"bbsncd\":\"한강\",\"obselm\":772.57,\"thrmlhi\":1.8,\"prselm\":\"773.7\",\"wvmlhi\":\"10\",\"hytmlhi\":0.6,\"orgcha\":null,\"nj\":\"ⅹ\",\"wthsp\":null,\"spitm\":null,\"avgtmrPD\":null,\"mxtmrpd\":null,\"mntmrpd\":null,\"mnsnwpd\":null,\"smlevap\":null,\"lagevap\":null,\"avgwvpd\":null,\"mxdwdpd\":null,\"mxwvpd\":null,\"avghmdpd\":null,\"mnhmdpd\":null,\"avgdpnt\":null,\"avgcdqty\":null,\"avgsprs\":null,\"hrzsunpd\":null,\"snsnpd\":null}]}\n",
      "{\"result\":{\"code\":\"success\",\"msg\":\"완료되었습니다!\"},\"count\":1,\"list\":[{\"wtobsocd\":\"100\",\"wtobscd\":\"10011100\",\"obsnm\":\"대관령\",\"sbsncd\":\"1001\",\"clsyn\":\"운영중\",\"obskdcd\":\"보통\",\"mggvcd\":\"기상청\",\"opndt\":\"1971-07-15\",\"lat\":\"37.677   \",\"lon\":\"128.718  \",\"tmx\":\"351561\",\"tmy\":\"465538\",\"addr\":\"(산간)강원도 평창군 대관령면 횡계리\",\"bbsncd\":\"한강\",\"obselm\":772.57,\"thrmlhi\":1.8,\"prselm\":\"773.7\",\"wvmlhi\":\"10\",\"hytmlhi\":0.6,\"orgcha\":null,\"nj\":\"ⅹ\",\"wthsp\":null,\"spitm\":null,\"avgtmrPD\":null,\"mxtmrpd\":null,\"mntmrpd\":null,\"mnsnwpd\":null,\"smlevap\":null,\"lagevap\":null,\"avgwvpd\":null,\"mxdwdpd\":null,\"mxwvpd\":null,\"avghmdpd\":null,\"mnhmdpd\":null,\"avgdpnt\":null,\"avgcdqty\":null,\"avgsprs\":null,\"hrzsunpd\":null,\"snsnpd\":null}]}\n",
      "{\"result\":{\"code\":\"success\",\"msg\":\"완료되었습니다!\"},\"count\":1,\"list\":[{\"wtobsocd\":\"100\",\"wtobscd\":\"10011100\",\"obsnm\":\"대관령\",\"sbsncd\":\"1001\",\"clsyn\":\"운영중\",\"obskdcd\":\"보통\",\"mggvcd\":\"기상청\",\"opndt\":\"1971-07-15\",\"lat\":\"37.677   \",\"lon\":\"128.718  \",\"tmx\":\"351561\",\"tmy\":\"465538\",\"addr\":\"(산간)강원도 평창군 대관령면 횡계리\",\"bbsncd\":\"한강\",\"obselm\":772.57,\"thrmlhi\":1.8,\"prselm\":\"773.7\",\"wvmlhi\":\"10\",\"hytmlhi\":0.6,\"orgcha\":null,\"nj\":\"ⅹ\",\"wthsp\":null,\"spitm\":null,\"avgtmrPD\":null,\"mxtmrpd\":null,\"mntmrpd\":null,\"mnsnwpd\":null,\"smlevap\":null,\"lagevap\":null,\"avgwvpd\":null,\"mxdwdpd\":null,\"mxwvpd\":null,\"avghmdpd\":null,\"mnhmdpd\":null,\"avgdpnt\":null,\"avgcdqty\":null,\"avgsprs\":null,\"hrzsunpd\":null,\"snsnpd\":null}]}\n",
      "{\"result\":{\"code\":\"success\",\"msg\":\"완료되었습니다!\"},\"count\":1,\"list\":[{\"wtobsocd\":\"100\",\"wtobscd\":\"10011100\",\"obsnm\":\"대관령\",\"sbsncd\":\"1001\",\"clsyn\":\"운영중\",\"obskdcd\":\"보통\",\"mggvcd\":\"기상청\",\"opndt\":\"1971-07-15\",\"lat\":\"37.677   \",\"lon\":\"128.718  \",\"tmx\":\"351561\",\"tmy\":\"465538\",\"addr\":\"(산간)강원도 평창군 대관령면 횡계리\",\"bbsncd\":\"한강\",\"obselm\":772.57,\"thrmlhi\":1.8,\"prselm\":\"773.7\",\"wvmlhi\":\"10\",\"hytmlhi\":0.6,\"orgcha\":null,\"nj\":\"ⅹ\",\"wthsp\":null,\"spitm\":null,\"avgtmrPD\":null,\"mxtmrpd\":null,\"mntmrpd\":null,\"mnsnwpd\":null,\"smlevap\":null,\"lagevap\":null,\"avgwvpd\":null,\"mxdwdpd\":null,\"mxwvpd\":null,\"avghmdpd\":null,\"mnhmdpd\":null,\"avgdpnt\":null,\"avgcdqty\":null,\"avgsprs\":null,\"hrzsunpd\":null,\"snsnpd\":null}]}\n",
      "{\"result\":{\"code\":\"success\",\"msg\":\"완료되었습니다!\"},\"count\":1,\"list\":[{\"wtobsocd\":\"100\",\"wtobscd\":\"10011100\",\"obsnm\":\"대관령\",\"sbsncd\":\"1001\",\"clsyn\":\"운영중\",\"obskdcd\":\"보통\",\"mggvcd\":\"기상청\",\"opndt\":\"1971-07-15\",\"lat\":\"37.677   \",\"lon\":\"128.718  \",\"tmx\":\"351561\",\"tmy\":\"465538\",\"addr\":\"(산간)강원도 평창군 대관령면 횡계리\",\"bbsncd\":\"한강\",\"obselm\":772.57,\"thrmlhi\":1.8,\"prselm\":\"773.7\",\"wvmlhi\":\"10\",\"hytmlhi\":0.6,\"orgcha\":null,\"nj\":\"ⅹ\",\"wthsp\":null,\"spitm\":null,\"avgtmrPD\":null,\"mxtmrpd\":null,\"mntmrpd\":null,\"mnsnwpd\":null,\"smlevap\":null,\"lagevap\":null,\"avgwvpd\":null,\"mxdwdpd\":null,\"mxwvpd\":null,\"avghmdpd\":null,\"mnhmdpd\":null,\"avgdpnt\":null,\"avgcdqty\":null,\"avgsprs\":null,\"hrzsunpd\":null,\"snsnpd\":null}]}\n",
      "{\"result\":{\"code\":\"success\",\"msg\":\"완료되었습니다!\"},\"count\":1,\"list\":[{\"wtobsocd\":\"100\",\"wtobscd\":\"10011100\",\"obsnm\":\"대관령\",\"sbsncd\":\"1001\",\"clsyn\":\"운영중\",\"obskdcd\":\"보통\",\"mggvcd\":\"기상청\",\"opndt\":\"1971-07-15\",\"lat\":\"37.677   \",\"lon\":\"128.718  \",\"tmx\":\"351561\",\"tmy\":\"465538\",\"addr\":\"(산간)강원도 평창군 대관령면 횡계리\",\"bbsncd\":\"한강\",\"obselm\":772.57,\"thrmlhi\":1.8,\"prselm\":\"773.7\",\"wvmlhi\":\"10\",\"hytmlhi\":0.6,\"orgcha\":null,\"nj\":\"ⅹ\",\"wthsp\":null,\"spitm\":null,\"avgtmrPD\":null,\"mxtmrpd\":null,\"mntmrpd\":null,\"mnsnwpd\":null,\"smlevap\":null,\"lagevap\":null,\"avgwvpd\":null,\"mxdwdpd\":null,\"mxwvpd\":null,\"avghmdpd\":null,\"mnhmdpd\":null,\"avgdpnt\":null,\"avgcdqty\":null,\"avgsprs\":null,\"hrzsunpd\":null,\"snsnpd\":null}]}\n",
      "{\"result\":{\"code\":\"success\",\"msg\":\"완료되었습니다!\"},\"count\":1,\"list\":[{\"wtobsocd\":\"100\",\"wtobscd\":\"10011100\",\"obsnm\":\"대관령\",\"sbsncd\":\"1001\",\"clsyn\":\"운영중\",\"obskdcd\":\"보통\",\"mggvcd\":\"기상청\",\"opndt\":\"1971-07-15\",\"lat\":\"37.677   \",\"lon\":\"128.718  \",\"tmx\":\"351561\",\"tmy\":\"465538\",\"addr\":\"(산간)강원도 평창군 대관령면 횡계리\",\"bbsncd\":\"한강\",\"obselm\":772.57,\"thrmlhi\":1.8,\"prselm\":\"773.7\",\"wvmlhi\":\"10\",\"hytmlhi\":0.6,\"orgcha\":null,\"nj\":\"ⅹ\",\"wthsp\":null,\"spitm\":null,\"avgtmrPD\":null,\"mxtmrpd\":null,\"mntmrpd\":null,\"mnsnwpd\":null,\"smlevap\":null,\"lagevap\":null,\"avgwvpd\":null,\"mxdwdpd\":null,\"mxwvpd\":null,\"avghmdpd\":null,\"mnhmdpd\":null,\"avgdpnt\":null,\"avgcdqty\":null,\"avgsprs\":null,\"hrzsunpd\":null,\"snsnpd\":null}]}\n",
      "{\"result\":{\"code\":\"success\",\"msg\":\"완료되었습니다!\"},\"count\":1,\"list\":[{\"wtobsocd\":\"100\",\"wtobscd\":\"10011100\",\"obsnm\":\"대관령\",\"sbsncd\":\"1001\",\"clsyn\":\"운영중\",\"obskdcd\":\"보통\",\"mggvcd\":\"기상청\",\"opndt\":\"1971-07-15\",\"lat\":\"37.677   \",\"lon\":\"128.718  \",\"tmx\":\"351561\",\"tmy\":\"465538\",\"addr\":\"(산간)강원도 평창군 대관령면 횡계리\",\"bbsncd\":\"한강\",\"obselm\":772.57,\"thrmlhi\":1.8,\"prselm\":\"773.7\",\"wvmlhi\":\"10\",\"hytmlhi\":0.6,\"orgcha\":null,\"nj\":\"ⅹ\",\"wthsp\":null,\"spitm\":null,\"avgtmrPD\":null,\"mxtmrpd\":null,\"mntmrpd\":null,\"mnsnwpd\":null,\"smlevap\":null,\"lagevap\":null,\"avgwvpd\":null,\"mxdwdpd\":null,\"mxwvpd\":null,\"avghmdpd\":null,\"mnhmdpd\":null,\"avgdpnt\":null,\"avgcdqty\":null,\"avgsprs\":null,\"hrzsunpd\":null,\"snsnpd\":null}]}\n"
     ]
    },
    {
     "name": "stdout",
     "output_type": "stream",
     "text": [
      "{\"result\":{\"code\":\"success\",\"msg\":\"완료되었습니다!\"},\"count\":1,\"list\":[{\"wtobsocd\":\"100\",\"wtobscd\":\"10011100\",\"obsnm\":\"대관령\",\"sbsncd\":\"1001\",\"clsyn\":\"운영중\",\"obskdcd\":\"보통\",\"mggvcd\":\"기상청\",\"opndt\":\"1971-07-15\",\"lat\":\"37.677   \",\"lon\":\"128.718  \",\"tmx\":\"351561\",\"tmy\":\"465538\",\"addr\":\"(산간)강원도 평창군 대관령면 횡계리\",\"bbsncd\":\"한강\",\"obselm\":772.57,\"thrmlhi\":1.8,\"prselm\":\"773.7\",\"wvmlhi\":\"10\",\"hytmlhi\":0.6,\"orgcha\":null,\"nj\":\"ⅹ\",\"wthsp\":null,\"spitm\":null,\"avgtmrPD\":null,\"mxtmrpd\":null,\"mntmrpd\":null,\"mnsnwpd\":null,\"smlevap\":null,\"lagevap\":null,\"avgwvpd\":null,\"mxdwdpd\":null,\"mxwvpd\":null,\"avghmdpd\":null,\"mnhmdpd\":null,\"avgdpnt\":null,\"avgcdqty\":null,\"avgsprs\":null,\"hrzsunpd\":null,\"snsnpd\":null}]}\n"
     ]
    }
   ],
   "source": [
    "import requests\n",
    "\n",
    "url = \"http://www.wamis.go.kr:8080/wamis/openapi/wkw/we_obsinfo\"\n",
    "\n",
    "headers = {\n",
    "    'cache-control': \"no-cache\",\n",
    "    'postman-token': \"88b8d0db-c085-db8e-12bb-d68923d75347\"\n",
    "    }\n",
    "\n",
    "#관측소코드명\n",
    "obs_list = [10011100, 10021121, 10031221, 10041127, 10061114, 10071202, 10071203, 10121211, 10131101, 10141212, 10181108, 11011119, 12011112, 12011201, 13011090, 13021105, 13021106]\n",
    "\n",
    "for i in a: \n",
    "    i=0\n",
    "    querystring = {\"ServiceKey\":\"d6ac320da07b282bde61a946be84fe99dfa71ffd19\",\"ResultType\":\"json\",\"obscd\":obs_list[i]}\n",
    "    response = requests.request(\"GET\", url, headers=headers, params=querystring)\n",
    "    print(response.text)"
   ]
  },
  {
   "cell_type": "code",
   "execution_count": null,
   "metadata": {},
   "outputs": [],
   "source": []
  }
 ],
 "metadata": {
  "kernelspec": {
   "display_name": "Python 3",
   "language": "python",
   "name": "python3"
  },
  "language_info": {
   "codemirror_mode": {
    "name": "ipython",
    "version": 3
   },
   "file_extension": ".py",
   "mimetype": "text/x-python",
   "name": "python",
   "nbconvert_exporter": "python",
   "pygments_lexer": "ipython3",
   "version": "3.8.4rc1"
  }
 },
 "nbformat": 4,
 "nbformat_minor": 4
}
