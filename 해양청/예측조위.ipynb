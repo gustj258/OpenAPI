{
 "cells": [
  {
   "cell_type": "code",
   "execution_count": null,
   "metadata": {},
   "outputs": [],
   "source": [
    "import requests\n",
    "\n",
    "url = \"http://www.khoa.go.kr/oceangrid/grid/api/tideObsPre/search.do\"\n",
    "\n",
    "querystring = {\"ServiceKey\":\"OHVMK3dF0Ah6K/oIG71f0g==\",\"ObsCode\":\"DT_0001\",\"Date\":\"20180901\",\"ResultType\":\"json\"}\n",
    "\n",
    "headers = {\n",
    "    'cache-control': \"no-cache\",\n",
    "    'postman-token': \"6d89cd95-54bf-7374-0716-7d3c8befb2b8\"\n",
    "    }\n",
    "\n",
    "response = requests.request(\"GET\", url, headers=headers, params=querystring)\n",
    "\n",
    "print(response.text)"
   ]
  },
  {
   "cell_type": "code",
   "execution_count": null,
   "metadata": {},
   "outputs": [],
   "source": [
    "import requests\n",
    "import pandas as pd \n",
    "import datetime\n",
    "\n",
    "url = \"http://www.khoa.go.kr/oceangrid/grid/api/tideObsPre/search.do\"\n",
    "\n",
    "headers = {\n",
    "    'cache-control': \"no-cache\",\n",
    "    'postman-token': \"6d89cd95-54bf-7374-0716-7d3c8befb2b8\"\n",
    "    }\n",
    "\n",
    "dt_index = pd.date_range(start='20180901', end='20200901')\n",
    "dt_list = dt_index.strftime(\"%Y%m%d\").tolist()\n",
    "\n",
    "#OBSCODE = (DT_0001 = 인천)\n",
    "#분을 시간으로 바꿔 출력 필요\n",
    "for i in dt_list:\n",
    "    date=i\n",
    "    querystring = {\"ServiceKey\":\"OHVMK3dF0Ah6K/oIG71f0g==\",\"ObsCode\":\"DT_0001\",\"Date\":date,\"ResultType\":\"json\"}\n",
    "    response = requests.request(\"GET\", url, headers=headers, params=querystring)\n",
    "    print(response.text)"
   ]
  }
 ],
 "metadata": {
  "kernelspec": {
   "display_name": "Python 3",
   "language": "python",
   "name": "python3"
  },
  "language_info": {
   "codemirror_mode": {
    "name": "ipython",
    "version": 3
   },
   "file_extension": ".py",
   "mimetype": "text/x-python",
   "name": "python",
   "nbconvert_exporter": "python",
   "pygments_lexer": "ipython3",
   "version": "3.8.4rc1"
  }
 },
 "nbformat": 4,
 "nbformat_minor": 4
}
