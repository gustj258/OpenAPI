{
 "cells": [
  {
   "cell_type": "code",
   "execution_count": 4,
   "metadata": {},
   "outputs": [],
   "source": [
    "from pprint import pprint\n",
    "\n",
    "import requests\n",
    "import pandas as pd\n",
    "import datetime\n",
    "\n",
    "\n",
    "url = \"http://www.khoa.go.kr/oceangrid/grid/api/ObsServiceObj/search.do\"\n",
    "\n",
    "querystring = {\"ServiceKey\":\"OHVMK3dF0Ah6K/oIG71f0g==\",\"ResultType\":\"json\"}\n",
    "\n",
    "dat = []\n",
    "headers = {\n",
    "    'cache-control': \"no-cache\",\n",
    "    'postman-token': \"247eb1a6-9bd1-a4d9-6481-f3031eb8f568\"\n",
    "    }\n",
    "\n",
    "response = requests.request(\"GET\", url, headers=headers, params=querystring)\n",
    "\n",
    "#print(response.text)\n",
    "dat.extend(response.json()[\"result\"][\"data\"])\n",
    "\n",
    "df = pd.DataFrame(dat)\n",
    "\n",
    "df.to_excel('post.xlsx' , index=False)"
   ]
  }
 ],
 "metadata": {
  "kernelspec": {
   "display_name": "Python 3",
   "language": "python",
   "name": "python3"
  },
  "language_info": {
   "codemirror_mode": {
    "name": "ipython",
    "version": 3
   },
   "file_extension": ".py",
   "mimetype": "text/x-python",
   "name": "python",
   "nbconvert_exporter": "python",
   "pygments_lexer": "ipython3",
   "version": "3.8.4rc1"
  }
 },
 "nbformat": 4,
 "nbformat_minor": 4
}
