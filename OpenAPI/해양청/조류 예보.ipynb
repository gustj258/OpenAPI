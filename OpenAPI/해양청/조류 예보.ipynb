{
 "cells": [
  {
   "cell_type": "code",
   "execution_count": 1,
   "metadata": {},
   "outputs": [
    {
     "name": "stdout",
     "output_type": "stream",
     "text": [
      "{\"result\":{\"data\":[{\"pred_time\":\"2018-09-01 00:00:00\",\"current_dir\":\"북동\",\"current_speed\":\"26.86\"},{\"pred_time\":\"2018-09-01 00:30:00\",\"current_dir\":\"북동\",\"current_speed\":\"32.67\"},{\"pred_time\":\"2018-09-01 01:00:00\",\"current_dir\":\"북동\",\"current_speed\":\"34.67\"},{\"pred_time\":\"2018-09-01 01:30:00\",\"current_dir\":\"북북동\",\"current_speed\":\"32.28\"},{\"pred_time\":\"2018-09-01 02:00:00\",\"current_dir\":\"북북동\",\"current_speed\":\"25.89\"},{\"pred_time\":\"2018-09-01 02:30:00\",\"current_dir\":\"북북동\",\"current_speed\":\"16.61\"},{\"pred_time\":\"2018-09-01 03:00:00\",\"current_dir\":\"북북동\",\"current_speed\":\"5.92\"},{\"pred_time\":\"2018-09-01 03:30:00\",\"current_dir\":\"남남서\",\"current_speed\":\"4.9\"},{\"pred_time\":\"2018-09-01 04:00:00\",\"current_dir\":\"남남서\",\"current_speed\":\"15.12\"},{\"pred_time\":\"2018-09-01 04:30:00\",\"current_dir\":\"남서\",\"current_speed\":\"24.59\"},{\"pred_time\":\"2018-09-01 05:00:00\",\"current_dir\":\"남서\",\"current_speed\":\"33.44\"},{\"pred_time\":\"2018-09-01 05:30:00\",\"current_dir\":\"남서\",\"current_speed\":\"41.55\"},{\"pred_time\":\"2018-09-01 06:00:00\",\"current_dir\":\"남서\",\"current_speed\":\"48.35\"},{\"pred_time\":\"2018-09-01 06:30:00\",\"current_dir\":\"남서\",\"current_speed\":\"52.94\"},{\"pred_time\":\"2018-09-01 07:00:00\",\"current_dir\":\"남서\",\"current_speed\":\"54.62\"},{\"pred_time\":\"2018-09-01 07:30:00\",\"current_dir\":\"남서\",\"current_speed\":\"53.2\"},{\"pred_time\":\"2018-09-01 08:00:00\",\"current_dir\":\"남서\",\"current_speed\":\"49.14\"},{\"pred_time\":\"2018-09-01 08:30:00\",\"current_dir\":\"남서\",\"current_speed\":\"43.36\"},{\"pred_time\":\"2018-09-01 09:00:00\",\"current_dir\":\"남서\",\"current_speed\":\"36.76\"},{\"pred_time\":\"2018-09-01 09:30:00\",\"current_dir\":\"남서\",\"current_speed\":\"29.88\"},{\"pred_time\":\"2018-09-01 10:00:00\",\"current_dir\":\"남서\",\"current_speed\":\"22.76\"},{\"pred_time\":\"2018-09-01 10:30:00\",\"current_dir\":\"서남서\",\"current_speed\":\"15.11\"},{\"pred_time\":\"2018-09-01 11:00:00\",\"current_dir\":\"서남서\",\"current_speed\":\"7.03\"},{\"pred_time\":\"2018-09-01 11:30:00\",\"current_dir\":\"북\",\"current_speed\":\"5.49\"},{\"pred_time\":\"2018-09-01 12:00:00\",\"current_dir\":\"북북동\",\"current_speed\":\"14\"},{\"pred_time\":\"2018-09-01 12:30:00\",\"current_dir\":\"북북동\",\"current_speed\":\"22.23\"},{\"pred_time\":\"2018-09-01 13:00:00\",\"current_dir\":\"북북동\",\"current_speed\":\"28.03\"},{\"pred_time\":\"2018-09-01 13:30:00\",\"current_dir\":\"북북동\",\"current_speed\":\"30.3\"},{\"pred_time\":\"2018-09-01 14:00:00\",\"current_dir\":\"북북동\",\"current_speed\":\"28.61\"},{\"pred_time\":\"2018-09-01 14:30:00\",\"current_dir\":\"북북동\",\"current_speed\":\"23.34\"},{\"pred_time\":\"2018-09-01 15:00:00\",\"current_dir\":\"북북동\",\"current_speed\":\"15.39\"},{\"pred_time\":\"2018-09-01 15:30:00\",\"current_dir\":\"북동\",\"current_speed\":\"5.86\"},{\"pred_time\":\"2018-09-01 16:00:00\",\"current_dir\":\"남남서\",\"current_speed\":\"4.35\"},{\"pred_time\":\"2018-09-01 16:30:00\",\"current_dir\":\"남서\",\"current_speed\":\"14.51\"},{\"pred_time\":\"2018-09-01 17:00:00\",\"current_dir\":\"남서\",\"current_speed\":\"24.3\"},{\"pred_time\":\"2018-09-01 17:30:00\",\"current_dir\":\"남서\",\"current_speed\":\"33.27\"},{\"pred_time\":\"2018-09-01 18:00:00\",\"current_dir\":\"남서\",\"current_speed\":\"40.77\"},{\"pred_time\":\"2018-09-01 18:30:00\",\"current_dir\":\"남서\",\"current_speed\":\"45.97\"},{\"pred_time\":\"2018-09-01 19:00:00\",\"current_dir\":\"남서\",\"current_speed\":\"48.19\"},{\"pred_time\":\"2018-09-01 19:30:00\",\"current_dir\":\"남서\",\"current_speed\":\"47.19\"},{\"pred_time\":\"2018-09-01 20:00:00\",\"current_dir\":\"남서\",\"current_speed\":\"43.31\"},{\"pred_time\":\"2018-09-01 20:30:00\",\"current_dir\":\"남서\",\"current_speed\":\"37.32\"},{\"pred_time\":\"2018-09-01 21:00:00\",\"current_dir\":\"남서\",\"current_speed\":\"30.19\"},{\"pred_time\":\"2018-09-01 21:30:00\",\"current_dir\":\"서남서\",\"current_speed\":\"22.68\"},{\"pred_time\":\"2018-09-01 22:00:00\",\"current_dir\":\"서남서\",\"current_speed\":\"15.19\"},{\"pred_time\":\"2018-09-01 22:30:00\",\"current_dir\":\"서남서\",\"current_speed\":\"7.84\"},{\"pred_time\":\"2018-09-01 23:00:00\",\"current_dir\":\"북북서\",\"current_speed\":\"2.69\"},{\"pred_time\":\"2018-09-01 23:30:00\",\"current_dir\":\"북북동\",\"current_speed\":\"8.47\"},{\"pred_time\":\"2018-09-02 00:00:00\",\"current_dir\":\"북동\",\"current_speed\":\"15.64\"},{\"pred_time\":\"2018-09-02 00:30:00\",\"current_dir\":\"북동\",\"current_speed\":\"21.93\"},{\"pred_time\":\"2018-09-02 01:00:00\",\"current_dir\":\"북동\",\"current_speed\":\"26.43\"},{\"pred_time\":\"2018-09-02 01:30:00\",\"current_dir\":\"북동\",\"current_speed\":\"28.44\"},{\"pred_time\":\"2018-09-02 02:00:00\",\"current_dir\":\"북동\",\"current_speed\":\"27.61\"},{\"pred_time\":\"2018-09-02 02:30:00\",\"current_dir\":\"북북동\",\"current_speed\":\"24\"},{\"pred_time\":\"2018-09-02 03:00:00\",\"current_dir\":\"북북동\",\"current_speed\":\"18.03\"},{\"pred_time\":\"2018-09-02 03:30:00\",\"current_dir\":\"북북동\",\"current_speed\":\"10.34\"},{\"pred_time\":\"2018-09-02 04:00:00\",\"current_dir\":\"북북동\",\"current_speed\":\"1.69\"},{\"pred_time\":\"2018-09-02 04:30:00\",\"current_dir\":\"남서\",\"current_speed\":\"7.8\"},{\"pred_time\":\"2018-09-02 05:00:00\",\"current_dir\":\"남서\",\"current_speed\":\"17.21\"},{\"pred_time\":\"2018-09-02 05:30:00\",\"current_dir\":\"남서\",\"current_speed\":\"26.28\"},{\"pred_time\":\"2018-09-02 06:00:00\",\"current_dir\":\"남서\",\"current_speed\":\"34.41\"},{\"pred_time\":\"2018-09-02 06:30:00\",\"current_dir\":\"남서\",\"current_speed\":\"40.93\"},{\"pred_time\":\"2018-09-02 07:00:00\",\"current_dir\":\"남서\",\"current_speed\":\"45.29\"},{\"pred_time\":\"2018-09-02 07:30:00\",\"current_dir\":\"남서\",\"current_speed\":\"47.26\"},{\"pred_time\":\"2018-09-02 08:00:00\",\"current_dir\":\"남서\",\"current_speed\":\"46.99\"},{\"pred_time\":\"2018-09-02 08:30:00\",\"current_dir\":\"남서\",\"current_speed\":\"44.95\"},{\"pred_time\":\"2018-09-02 09:00:00\",\"current_dir\":\"남서\",\"current_speed\":\"41.68\"},{\"pred_time\":\"2018-09-02 09:30:00\",\"current_dir\":\"남서\",\"current_speed\":\"37.58\"},{\"pred_time\":\"2018-09-02 10:00:00\",\"current_dir\":\"서남서\",\"current_speed\":\"32.77\"},{\"pred_time\":\"2018-09-02 10:30:00\",\"current_dir\":\"서남서\",\"current_speed\":\"27.15\"},{\"pred_time\":\"2018-09-02 11:00:00\",\"current_dir\":\"서남서\",\"current_speed\":\"20.61\"},{\"pred_time\":\"2018-09-02 11:30:00\",\"current_dir\":\"서남서\",\"current_speed\":\"13.26\"},{\"pred_time\":\"2018-09-02 12:00:00\",\"current_dir\":\"서\",\"current_speed\":\"6.01\"},{\"pred_time\":\"2018-09-02 12:30:00\",\"current_dir\":\"북\",\"current_speed\":\"5.72\"},{\"pred_time\":\"2018-09-02 13:00:00\",\"current_dir\":\"북북동\",\"current_speed\":\"12.25\"},{\"pred_time\":\"2018-09-02 13:30:00\",\"current_dir\":\"북북동\",\"current_speed\":\"18.15\"},{\"pred_time\":\"2018-09-02 14:00:00\",\"current_dir\":\"북북동\",\"current_speed\":\"22.14\"},{\"pred_time\":\"2018-09-02 14:30:00\",\"current_dir\":\"북북동\",\"current_speed\":\"23.76\"},{\"pred_time\":\"2018-09-02 15:00:00\",\"current_dir\":\"북북동\",\"current_speed\":\"22.89\"},{\"pred_time\":\"2018-09-02 15:30:00\",\"current_dir\":\"북북동\",\"current_speed\":\"19.68\"},{\"pred_time\":\"2018-09-02 16:00:00\",\"current_dir\":\"북동\",\"current_speed\":\"14.4\"},{\"pred_time\":\"2018-09-02 16:30:00\",\"current_dir\":\"북동\",\"current_speed\":\"7.45\"},{\"pred_time\":\"2018-09-02 17:00:00\",\"current_dir\":\"남\",\"current_speed\":\"1.09\"},{\"pred_time\":\"2018-09-02 17:30:00\",\"current_dir\":\"남서\",\"current_speed\":\"9.49\"},{\"pred_time\":\"2018-09-02 18:00:00\",\"current_dir\":\"남서\",\"current_speed\":\"17.81\"},{\"pred_time\":\"2018-09-02 18:30:00\",\"current_dir\":\"남서\",\"current_speed\":\"24.8\"},{\"pred_time\":\"2018-09-02 19:00:00\",\"current_dir\":\"남서\",\"current_speed\":\"29.69\"},{\"pred_time\":\"2018-09-02 19:30:00\",\"current_dir\":\"남서\",\"current_speed\":\"32.08\"},{\"pred_time\":\"2018-09-02 20:00:00\",\"current_dir\":\"남서\",\"current_speed\":\"32.05\"},{\"pred_time\":\"2018-09-02 20:30:00\",\"current_dir\":\"남서\",\"current_speed\":\"30.09\"},{\"pred_time\":\"2018-09-02 21:00:00\",\"current_dir\":\"서남서\",\"current_speed\":\"26.81\"},{\"pred_time\":\"2018-09-02 21:30:00\",\"current_dir\":\"서남서\",\"current_speed\":\"22.73\"},{\"pred_time\":\"2018-09-02 22:00:00\",\"current_dir\":\"서남서\",\"current_speed\":\"18.08\"},{\"pred_time\":\"2018-09-02 22:30:00\",\"current_dir\":\"서남서\",\"current_speed\":\"12.92\"},{\"pred_time\":\"2018-09-02 23:00:00\",\"current_dir\":\"서\",\"current_speed\":\"7.37\"},{\"pred_time\":\"2018-09-02 23:30:00\",\"current_dir\":\"북서\",\"current_speed\":\"2.97\"},{\"pred_time\":\"2018-09-03 00:00:00\",\"current_dir\":\"북북동\",\"current_speed\":\"6.3\"}],\"meta\":{\"obs_location\":\"부산항입구\",\"obs_last_req_cnt\":\"19979/20000\",\"obs_code\":\"16LTC13\"}}}\n"
     ]
    }
   ],
   "source": [
    "import requests\n",
    "\n",
    "url = \"http://www.khoa.go.kr/oceangrid/grid/api/fcTidalCurrent/search.do\"\n",
    "\n",
    "querystring = {\"ServiceKey\":\"OHVMK3dF0Ah6K/oIG71f0g==\",\"ObsCode\":\"16LTC13\",\"Date\":\"20180901\",\"ResultType\":\"json\"}\n",
    "\n",
    "headers = {\n",
    "    'cache-control': \"no-cache\",\n",
    "    'postman-token': \"c38d52c4-f8b5-b9c8-1727-6370846ad48c\"\n",
    "    }\n",
    "\n",
    "response = requests.request(\"GET\", url, headers=headers, params=querystring)\n",
    "\n",
    "print(response.text)"
   ]
  },
  {
   "cell_type": "code",
   "execution_count": null,
   "metadata": {},
   "outputs": [],
   "source": []
  }
 ],
 "metadata": {
  "kernelspec": {
   "display_name": "Python 3",
   "language": "python",
   "name": "python3"
  },
  "language_info": {
   "codemirror_mode": {
    "name": "ipython",
    "version": 3
   },
   "file_extension": ".py",
   "mimetype": "text/x-python",
   "name": "python",
   "nbconvert_exporter": "python",
   "pygments_lexer": "ipython3",
   "version": "3.8.4rc1"
  }
 },
 "nbformat": 4,
 "nbformat_minor": 4
}
