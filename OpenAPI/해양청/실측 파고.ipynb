from pprint import pprint

import requests
import pandas as pd 
import datetime

url = "http://www.khoa.go.kr/oceangrid/grid/api/obsWaveHight/search.do"


headers = {
    'cache-control': "no-cache",
    'postman-token': "534f4ea4-89dd-9e87-3b5e-ac8261b27b6b"
    }

dt_index = pd.date_range(start='20191201', end='20200201')
dt_list = dt_index.strftime("%Y%m%d").tolist()

#관측소 번호 = (해운대해수욕장:TW_0062)

dat = []
for i in dt_list:
    date=i
    querystring = {"ServiceKey":"OHVMK3dF0Ah6K/oIG71f0g==","ObsCode":"IE_0061","Date":date,"ResultType":"json"}
    response = requests.request("GET", url, headers=headers, params=querystring)
    #print(response.text)
    #print(response.json())
    dat.extend(response.json()["result"]["data"])
    
df = pd.DataFrame(dat)

df["record_time"] = pd.to_datetime(df["record_time"])
df["wave_height"] = df["wave_height"].astype(float) 

#df.info()
#print(df)

df4hours = df.set_index("record_time").resample("4H").mean()
#dfhours.info()
print(df4hours)
df4hours.to_excel('wave.xlsx')
