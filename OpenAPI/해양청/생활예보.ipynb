{
 "cells": [
  {
   "cell_type": "code",
   "execution_count": 4,
   "metadata": {},
   "outputs": [],
   "source": [
    "import requests\n",
    "import pandas as pd \n",
    "import datetime\n",
    "import pandas\n",
    "\n",
    "url = \"http://www.khoa.go.kr/oceangrid/grid/api/fcIndexOfType/search.do\"\n",
    "\n",
    "headers = {\n",
    "    'cache-control': \"no-cache\",\n",
    "    'postman-token': \"ac9cd59e-2898-a144-44ae-344114074f04\"\n",
    "    }\n",
    "#today = datetime.date.today()\n",
    "#dt_index = pandas.date_range(today, end='20200901')\n",
    "dt_index = pandas.date_range(start='20180901', end='20200901')\n",
    "dt_list = dt_index.strftime(\"%Y%m%d\").tolist()\n",
    "\n",
    "for i in dt_list:\n",
    "    date=i\n",
    "    querystring = {\"ServiceKey\":\"OHVMK3dF0Ah6K/oIG71f0g==\",\"ResultType\":\"json\",\"Type\":\"SF\"}\n",
    "    response = requests.request(\"GET\", url, headers=headers, params=querystring)\n",
    "    print(response.text)"
   ]
  },
  {
   "cell_type": "code",
   "execution_count": null,
   "metadata": {},
   "outputs": [],
   "source": []
  }
 ],
 "metadata": {
  "kernelspec": {
   "display_name": "Python 3",
   "language": "python",
   "name": "python3"
  },
  "language_info": {
   "codemirror_mode": {
    "name": "ipython",
    "version": 3
   },
   "file_extension": ".py",
   "mimetype": "text/x-python",
   "name": "python",
   "nbconvert_exporter": "python",
   "pygments_lexer": "ipython3",
   "version": "3.8.4rc1"
  }
 },
 "nbformat": 4,
 "nbformat_minor": 4
}
