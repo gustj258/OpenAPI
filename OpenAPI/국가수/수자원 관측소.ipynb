{
 "cells": [
  {
   "cell_type": "code",
   "execution_count": 11,
   "metadata": {},
   "outputs": [
    {
     "name": "stdout",
     "output_type": "stream",
     "text": [
      "{\"result\":{\"code\":\"success\",\"msg\":\"완료되었습니다!\"},\"count\":16,\"list\":[{\"bbsnnm\":\"금강\",\"obscd\":\"30011248\",\"obsnm\":\"장수\",\"clsyn\":\"운영\",\"obsknd\":\"지상\",\"sbsncd\":\"300101\",\"mngorg\":\"기상청\",\"addr\":\"전라북도 장수군 장수읍 선창리\"},{\"bbsnnm\":\"금강\",\"obscd\":\"30041238\",\"obsnm\":\"금산\",\"clsyn\":\"운영\",\"obsknd\":\"지상\",\"sbsncd\":\"300403\",\"mngorg\":\"기상청\",\"addr\":\"충청남도 금산군 금산읍 아인리\"},{\"bbsnnm\":\"금강\",\"obscd\":\"30051135\",\"obsnm\":\"추풍령\",\"clsyn\":\"운영\",\"obsknd\":\"지상\",\"sbsncd\":\"300501\",\"mngorg\":\"기상청\",\"addr\":\"충청북도 영동군 추풍령면 관리\"},{\"bbsnnm\":\"금강\",\"obscd\":\"30071226\",\"obsnm\":\"보은\",\"clsyn\":\"운영\",\"obsknd\":\"지상\",\"sbsncd\":\"300703\",\"mngorg\":\"기상청\",\"addr\":\"충청북도 보은군 보은읍 성주리\"},{\"bbsnnm\":\"금강\",\"obscd\":\"30091133\",\"obsnm\":\"대전\",\"clsyn\":\"운영\",\"obsknd\":\"지상\",\"sbsncd\":\"300906\",\"mngorg\":\"기상청\",\"addr\":\"대전광역시 유성구 구성동\"},{\"bbsnnm\":\"금강\",\"obscd\":\"30111131\",\"obsnm\":\"청주\",\"clsyn\":\"운영\",\"obsknd\":\"지상\",\"sbsncd\":\"301113\",\"mngorg\":\"기상청\",\"addr\":\"충청북도 청주시흥덕구 복대동\"},{\"bbsnnm\":\"금강\",\"obscd\":\"30121236\",\"obsnm\":\"부여\",\"clsyn\":\"운영\",\"obsknd\":\"지상\",\"sbsncd\":\"301214\",\"mngorg\":\"기상청\",\"addr\":\"충청남도 부여군 부여읍 가탑리\"},{\"bbsnnm\":\"금강\",\"obscd\":\"30121239\",\"obsnm\":\"세종\",\"clsyn\":\"운영\",\"obsknd\":\"지상\",\"sbsncd\":\"301203\",\"mngorg\":\"기상청\",\"addr\":\"세종특별자치시 새롬동\"},{\"bbsnnm\":\"삽교천\",\"obscd\":\"31011101\",\"obsnm\":\"홍성\",\"clsyn\":\"운영\",\"obsknd\":\"지상\",\"sbsncd\":\"310101\",\"mngorg\":\"기상청\",\"addr\":\"충청남도 홍성군 홍북읍 신경리\"},{\"bbsnnm\":\"삽교천\",\"obscd\":\"31011232\",\"obsnm\":\"천안\",\"clsyn\":\"운영\",\"obsknd\":\"지상\",\"sbsncd\":\"310111\",\"mngorg\":\"기상청\",\"addr\":\"충청남도 천안시 신방동\"},{\"bbsnnm\":\"금강서해\",\"obscd\":\"32021129\",\"obsnm\":\"서산\",\"clsyn\":\"운영\",\"obsknd\":\"지상\",\"sbsncd\":\"320204\",\"mngorg\":\"기상청\",\"addr\":\"충청남도 서산시 수석동\"},{\"bbsnnm\":\"금강서해\",\"obscd\":\"32031140\",\"obsnm\":\"군산\",\"clsyn\":\"운영\",\"obsknd\":\"지상\",\"sbsncd\":\"320309\",\"mngorg\":\"기상청\",\"addr\":\"전라북도 군산시 내흥동\"},{\"bbsnnm\":\"금강서해\",\"obscd\":\"32031235\",\"obsnm\":\"보령\",\"clsyn\":\"운영\",\"obsknd\":\"지상\",\"sbsncd\":\"320304\",\"mngorg\":\"기상청\",\"addr\":\"충청남도 보령시 요암동\"},{\"bbsnnm\":\"만경ㆍ동진\",\"obscd\":\"33011146\",\"obsnm\":\"전주\",\"clsyn\":\"운영\",\"obsknd\":\"지상\",\"sbsncd\":\"330109\",\"mngorg\":\"기상청\",\"addr\":\"전라북도 전주시완산구 남노송동\"},{\"bbsnnm\":\"만경ㆍ동진\",\"obscd\":\"33021245\",\"obsnm\":\"정읍\",\"clsyn\":\"운영\",\"obsknd\":\"지상\",\"sbsncd\":\"330203\",\"mngorg\":\"기상청\",\"addr\":\"전라북도 정읍시 상동\"},{\"bbsnnm\":\"만경ㆍ동진\",\"obscd\":\"33031243\",\"obsnm\":\"부안\",\"clsyn\":\"운영\",\"obsknd\":\"지상\",\"sbsncd\":\"330302\",\"mngorg\":\"기상청\",\"addr\":\"전라북도 부안군 행안면 역리\"}]}\n"
     ]
    }
   ],
   "source": [
    "import requests\n",
    "\n",
    "url = \"http://www.wamis.go.kr:8080/wamis/openapi/wkw/we_dwtwtobs\"\n",
    "\n",
    "querystring = {\"ServiceKey\":\"d6ac320da07b282bde61a946be84fe99dfa71ffd19\",\"ResultType\":\"json\",\"basin\":\"3\",\"oper\":\"y\"}\n",
    "\n",
    "headers = {\n",
    "    'cache-control': \"no-cache\",\n",
    "    'postman-token': \"9a95a902-d2e6-1a19-318c-8022c748bf69\"\n",
    "    }\n",
    "\n",
    "response = requests.request(\"GET\", url, headers=headers, params=querystring)\n",
    "\n",
    "print(response.text)"
   ]
  },
  {
   "cell_type": "code",
   "execution_count": 13,
   "metadata": {},
   "outputs": [
    {
     "ename": "TypeError",
     "evalue": "'list' object is not callable",
     "output_type": "error",
     "traceback": [
      "\u001b[1;31m---------------------------------------------------------------------------\u001b[0m",
      "\u001b[1;31mTypeError\u001b[0m                                 Traceback (most recent call last)",
      "\u001b[1;32m<ipython-input-13-1dc06f0e6d0e>\u001b[0m in \u001b[0;36m<module>\u001b[1;34m\u001b[0m\n\u001b[0;32m      9\u001b[0m \u001b[0mab\u001b[0m \u001b[1;33m=\u001b[0m \u001b[1;33m(\u001b[0m\u001b[1;33m[\u001b[0m\u001b[1;36m1\u001b[0m\u001b[1;33m,\u001b[0m\u001b[1;36m2\u001b[0m\u001b[1;33m,\u001b[0m\u001b[1;36m3\u001b[0m\u001b[1;33m,\u001b[0m\u001b[1;36m4\u001b[0m\u001b[1;33m,\u001b[0m\u001b[1;36m5\u001b[0m\u001b[1;33m,\u001b[0m\u001b[1;36m6\u001b[0m\u001b[1;33m]\u001b[0m\u001b[1;33m)\u001b[0m\u001b[1;33m\u001b[0m\u001b[1;33m\u001b[0m\u001b[0m\n\u001b[0;32m     10\u001b[0m \u001b[1;33m\u001b[0m\u001b[0m\n\u001b[1;32m---> 11\u001b[1;33m \u001b[1;32mfor\u001b[0m \u001b[0mi\u001b[0m \u001b[1;32min\u001b[0m \u001b[0mab\u001b[0m\u001b[1;33m(\u001b[0m\u001b[1;36m1\u001b[0m\u001b[1;33m,\u001b[0m \u001b[1;36m6\u001b[0m\u001b[1;33m,\u001b[0m \u001b[1;36m1\u001b[0m\u001b[1;33m)\u001b[0m\u001b[1;33m:\u001b[0m\u001b[1;33m\u001b[0m\u001b[1;33m\u001b[0m\u001b[0m\n\u001b[0m\u001b[0;32m     12\u001b[0m     \u001b[0mab\u001b[0m\u001b[1;33m=\u001b[0m\u001b[0mi\u001b[0m\u001b[1;33m\u001b[0m\u001b[1;33m\u001b[0m\u001b[0m\n\u001b[0;32m     13\u001b[0m     \u001b[0mquerystring\u001b[0m \u001b[1;33m=\u001b[0m \u001b[1;33m{\u001b[0m\u001b[1;34m\"ServiceKey\"\u001b[0m\u001b[1;33m:\u001b[0m\u001b[1;34m\"d6ac320da07b282bde61a946be84fe99dfa71ffd19\"\u001b[0m\u001b[1;33m,\u001b[0m\u001b[1;34m\"ResultType\"\u001b[0m\u001b[1;33m:\u001b[0m\u001b[1;34m\"json\"\u001b[0m\u001b[1;33m,\u001b[0m\u001b[1;34m\"basin\"\u001b[0m\u001b[1;33m:\u001b[0m\u001b[0mab\u001b[0m\u001b[1;33m,\u001b[0m\u001b[1;34m\"oper\"\u001b[0m\u001b[1;33m:\u001b[0m\u001b[1;34m\"y\"\u001b[0m\u001b[1;33m}\u001b[0m\u001b[1;33m\u001b[0m\u001b[1;33m\u001b[0m\u001b[0m\n",
      "\u001b[1;31mTypeError\u001b[0m: 'list' object is not callable"
     ]
    }
   ],
   "source": [
    "import requests\n",
    "\n",
    "url = \"http://www.wamis.go.kr:8080/wamis/openapi/wkw/we_dwtwtobs\"\n",
    "\n",
    "headers = {\n",
    "    'cache-control': \"no-cache\",\n",
    "    'postman-token': \"b125a56a-918e-8856-4778-5dd95ea7474c\"\n",
    "    }\n",
    "ab = (1,2,3,4,5,6)\n",
    "\n",
    "for i in ab(1, 6, 1):\n",
    "    ab=i\n",
    "    querystring = {\"ServiceKey\":\"d6ac320da07b282bde61a946be84fe99dfa71ffd19\",\"ResultType\":\"json\",\"basin\":ab,\"oper\":\"y\"}\n",
    "    response = requests.request(\"GET\", url, headers=headers, params=querystring)\n",
    "    print(response.text)"
   ]
  }
 ],
 "metadata": {
  "kernelspec": {
   "display_name": "Python 3",
   "language": "python",
   "name": "python3"
  },
  "language_info": {
   "codemirror_mode": {
    "name": "ipython",
    "version": 3
   },
   "file_extension": ".py",
   "mimetype": "text/x-python",
   "name": "python",
   "nbconvert_exporter": "python",
   "pygments_lexer": "ipython3",
   "version": "3.8.4rc1"
  }
 },
 "nbformat": 4,
 "nbformat_minor": 4
}
